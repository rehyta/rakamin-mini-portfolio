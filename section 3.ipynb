{
 "cells": [
  {
   "cell_type": "markdown",
   "id": "933eb86c",
   "metadata": {},
   "source": [
    "## analisis pengaruh status perkawinan dalam jangka waktu peminjaman (/y)"
   ]
  },
  {
   "cell_type": "code",
   "execution_count": 112,
   "id": "acecd06c",
   "metadata": {},
   "outputs": [],
   "source": [
    "import pandas as pd\n",
    "import matplotlib.pyplot as plt\n",
    "import seaborn as sns\n",
    "import numpy as np\n",
    "df = pd.read_csv(\"loan_customer.csv\")"
   ]
  },
  {
   "cell_type": "code",
   "execution_count": 113,
   "id": "cf746b86",
   "metadata": {},
   "outputs": [],
   "source": [
    "df.duplicated().sum()\n",
    "df = df.drop_duplicates()"
   ]
  },
  {
   "cell_type": "markdown",
   "id": "c0b9fec1",
   "metadata": {},
   "source": [
    "#### seleksi fitur"
   ]
  },
  {
   "cell_type": "code",
   "execution_count": 114,
   "id": "7392d343",
   "metadata": {},
   "outputs": [
    {
     "data": {
      "text/html": [
       "<div>\n",
       "<style scoped>\n",
       "    .dataframe tbody tr th:only-of-type {\n",
       "        vertical-align: middle;\n",
       "    }\n",
       "\n",
       "    .dataframe tbody tr th {\n",
       "        vertical-align: top;\n",
       "    }\n",
       "\n",
       "    .dataframe thead th {\n",
       "        text-align: right;\n",
       "    }\n",
       "</style>\n",
       "<table border=\"1\" class=\"dataframe\">\n",
       "  <thead>\n",
       "    <tr style=\"text-align: right;\">\n",
       "      <th></th>\n",
       "      <th>married</th>\n",
       "      <th>loan_term_year</th>\n",
       "      <th>loan_id</th>\n",
       "    </tr>\n",
       "  </thead>\n",
       "  <tbody>\n",
       "    <tr>\n",
       "      <th>0</th>\n",
       "      <td>No</td>\n",
       "      <td>30</td>\n",
       "      <td>LP001002</td>\n",
       "    </tr>\n",
       "    <tr>\n",
       "      <th>1</th>\n",
       "      <td>Yes</td>\n",
       "      <td>30</td>\n",
       "      <td>LP001003</td>\n",
       "    </tr>\n",
       "    <tr>\n",
       "      <th>2</th>\n",
       "      <td>Yes</td>\n",
       "      <td>30</td>\n",
       "      <td>LP001005</td>\n",
       "    </tr>\n",
       "    <tr>\n",
       "      <th>3</th>\n",
       "      <td>Yes</td>\n",
       "      <td>30</td>\n",
       "      <td>LP001006</td>\n",
       "    </tr>\n",
       "    <tr>\n",
       "      <th>4</th>\n",
       "      <td>No</td>\n",
       "      <td>30</td>\n",
       "      <td>LP001008</td>\n",
       "    </tr>\n",
       "    <tr>\n",
       "      <th>...</th>\n",
       "      <td>...</td>\n",
       "      <td>...</td>\n",
       "      <td>...</td>\n",
       "    </tr>\n",
       "    <tr>\n",
       "      <th>616</th>\n",
       "      <td>No</td>\n",
       "      <td>30</td>\n",
       "      <td>LP002978</td>\n",
       "    </tr>\n",
       "    <tr>\n",
       "      <th>617</th>\n",
       "      <td>Yes</td>\n",
       "      <td>15</td>\n",
       "      <td>LP002979</td>\n",
       "    </tr>\n",
       "    <tr>\n",
       "      <th>618</th>\n",
       "      <td>Yes</td>\n",
       "      <td>30</td>\n",
       "      <td>LP002983</td>\n",
       "    </tr>\n",
       "    <tr>\n",
       "      <th>619</th>\n",
       "      <td>Yes</td>\n",
       "      <td>30</td>\n",
       "      <td>LP002984</td>\n",
       "    </tr>\n",
       "    <tr>\n",
       "      <th>620</th>\n",
       "      <td>No</td>\n",
       "      <td>30</td>\n",
       "      <td>LP002990</td>\n",
       "    </tr>\n",
       "  </tbody>\n",
       "</table>\n",
       "<p>620 rows × 3 columns</p>\n",
       "</div>"
      ],
      "text/plain": [
       "    married  loan_term_year   loan_id\n",
       "0        No              30  LP001002\n",
       "1       Yes              30  LP001003\n",
       "2       Yes              30  LP001005\n",
       "3       Yes              30  LP001006\n",
       "4        No              30  LP001008\n",
       "..      ...             ...       ...\n",
       "616      No              30  LP002978\n",
       "617     Yes              15  LP002979\n",
       "618     Yes              30  LP002983\n",
       "619     Yes              30  LP002984\n",
       "620      No              30  LP002990\n",
       "\n",
       "[620 rows x 3 columns]"
      ]
     },
     "execution_count": 114,
     "metadata": {},
     "output_type": "execute_result"
    }
   ],
   "source": [
    "data = ['married', 'loan_term_year', 'loan_id']\n",
    "data = df[data]\n",
    "data"
   ]
  },
  {
   "cell_type": "markdown",
   "id": "9a464f69",
   "metadata": {},
   "source": [
    "## preprocessing data"
   ]
  },
  {
   "cell_type": "code",
   "execution_count": 115,
   "id": "0f3a82f0",
   "metadata": {},
   "outputs": [
    {
     "name": "stdout",
     "output_type": "stream",
     "text": [
      "married           3\n",
      "loan_term_year    0\n",
      "loan_id           0\n",
      "dtype: int64\n"
     ]
    }
   ],
   "source": [
    "#cari missing value dan data duplikat\n",
    "missing_values = data.isnull().sum()\n",
    "print(missing_values)"
   ]
  },
  {
   "cell_type": "code",
   "execution_count": 116,
   "id": "88ad1a26",
   "metadata": {},
   "outputs": [],
   "source": [
    "data=data.dropna(subset=['married'])"
   ]
  },
  {
   "cell_type": "code",
   "execution_count": 117,
   "id": "2a568163",
   "metadata": {
    "scrolled": true
   },
   "outputs": [
    {
     "name": "stdout",
     "output_type": "stream",
     "text": [
      "<class 'pandas.core.frame.DataFrame'>\n",
      "Int64Index: 617 entries, 0 to 620\n",
      "Data columns (total 3 columns):\n",
      " #   Column          Non-Null Count  Dtype \n",
      "---  ------          --------------  ----- \n",
      " 0   married         617 non-null    object\n",
      " 1   loan_term_year  617 non-null    int64 \n",
      " 2   loan_id         617 non-null    object\n",
      "dtypes: int64(1), object(2)\n",
      "memory usage: 19.3+ KB\n"
     ]
    }
   ],
   "source": [
    "data.info()"
   ]
  },
  {
   "cell_type": "markdown",
   "id": "bbcf8e1d",
   "metadata": {},
   "source": [
    "#### data grouping"
   ]
  },
  {
   "cell_type": "code",
   "execution_count": 118,
   "id": "3d3d1f4d",
   "metadata": {},
   "outputs": [
    {
     "data": {
      "text/html": [
       "<div>\n",
       "<style scoped>\n",
       "    .dataframe tbody tr th:only-of-type {\n",
       "        vertical-align: middle;\n",
       "    }\n",
       "\n",
       "    .dataframe tbody tr th {\n",
       "        vertical-align: top;\n",
       "    }\n",
       "\n",
       "    .dataframe thead th {\n",
       "        text-align: right;\n",
       "    }\n",
       "</style>\n",
       "<table border=\"1\" class=\"dataframe\">\n",
       "  <thead>\n",
       "    <tr style=\"text-align: right;\">\n",
       "      <th></th>\n",
       "      <th>married</th>\n",
       "      <th>loan_term_year</th>\n",
       "      <th>loan_id</th>\n",
       "    </tr>\n",
       "  </thead>\n",
       "  <tbody>\n",
       "    <tr>\n",
       "      <th>0</th>\n",
       "      <td>No</td>\n",
       "      <td>3</td>\n",
       "      <td>2</td>\n",
       "    </tr>\n",
       "    <tr>\n",
       "      <th>1</th>\n",
       "      <td>No</td>\n",
       "      <td>5</td>\n",
       "      <td>1</td>\n",
       "    </tr>\n",
       "    <tr>\n",
       "      <th>2</th>\n",
       "      <td>No</td>\n",
       "      <td>10</td>\n",
       "      <td>1</td>\n",
       "    </tr>\n",
       "    <tr>\n",
       "      <th>3</th>\n",
       "      <td>No</td>\n",
       "      <td>15</td>\n",
       "      <td>8</td>\n",
       "    </tr>\n",
       "    <tr>\n",
       "      <th>4</th>\n",
       "      <td>No</td>\n",
       "      <td>20</td>\n",
       "      <td>1</td>\n",
       "    </tr>\n",
       "    <tr>\n",
       "      <th>5</th>\n",
       "      <td>No</td>\n",
       "      <td>25</td>\n",
       "      <td>3</td>\n",
       "    </tr>\n",
       "    <tr>\n",
       "      <th>6</th>\n",
       "      <td>No</td>\n",
       "      <td>30</td>\n",
       "      <td>190</td>\n",
       "    </tr>\n",
       "    <tr>\n",
       "      <th>7</th>\n",
       "      <td>No</td>\n",
       "      <td>40</td>\n",
       "      <td>9</td>\n",
       "    </tr>\n",
       "    <tr>\n",
       "      <th>8</th>\n",
       "      <td>Yes</td>\n",
       "      <td>1</td>\n",
       "      <td>1</td>\n",
       "    </tr>\n",
       "    <tr>\n",
       "      <th>9</th>\n",
       "      <td>Yes</td>\n",
       "      <td>5</td>\n",
       "      <td>1</td>\n",
       "    </tr>\n",
       "    <tr>\n",
       "      <th>10</th>\n",
       "      <td>Yes</td>\n",
       "      <td>7</td>\n",
       "      <td>4</td>\n",
       "    </tr>\n",
       "    <tr>\n",
       "      <th>11</th>\n",
       "      <td>Yes</td>\n",
       "      <td>10</td>\n",
       "      <td>2</td>\n",
       "    </tr>\n",
       "    <tr>\n",
       "      <th>12</th>\n",
       "      <td>Yes</td>\n",
       "      <td>15</td>\n",
       "      <td>36</td>\n",
       "    </tr>\n",
       "    <tr>\n",
       "      <th>13</th>\n",
       "      <td>Yes</td>\n",
       "      <td>20</td>\n",
       "      <td>2</td>\n",
       "    </tr>\n",
       "    <tr>\n",
       "      <th>14</th>\n",
       "      <td>Yes</td>\n",
       "      <td>25</td>\n",
       "      <td>10</td>\n",
       "    </tr>\n",
       "    <tr>\n",
       "      <th>15</th>\n",
       "      <td>Yes</td>\n",
       "      <td>30</td>\n",
       "      <td>341</td>\n",
       "    </tr>\n",
       "    <tr>\n",
       "      <th>16</th>\n",
       "      <td>Yes</td>\n",
       "      <td>40</td>\n",
       "      <td>5</td>\n",
       "    </tr>\n",
       "  </tbody>\n",
       "</table>\n",
       "</div>"
      ],
      "text/plain": [
       "   married  loan_term_year  loan_id\n",
       "0       No               3        2\n",
       "1       No               5        1\n",
       "2       No              10        1\n",
       "3       No              15        8\n",
       "4       No              20        1\n",
       "5       No              25        3\n",
       "6       No              30      190\n",
       "7       No              40        9\n",
       "8      Yes               1        1\n",
       "9      Yes               5        1\n",
       "10     Yes               7        4\n",
       "11     Yes              10        2\n",
       "12     Yes              15       36\n",
       "13     Yes              20        2\n",
       "14     Yes              25       10\n",
       "15     Yes              30      341\n",
       "16     Yes              40        5"
      ]
     },
     "execution_count": 118,
     "metadata": {},
     "output_type": "execute_result"
    }
   ],
   "source": [
    "data_group = data.groupby(['married','loan_term_year'])['loan_id'].count().reset_index()\n",
    "data_group"
   ]
  },
  {
   "cell_type": "code",
   "execution_count": 119,
   "id": "754ff608",
   "metadata": {},
   "outputs": [],
   "source": [
    "#kategorikan berdasar tahun\n",
    "\n",
    "loan_term_year_group ={}\n",
    "for i in range (1, 41):\n",
    "    if i<15:\n",
    "        loan_term_year_group[i]= '<15'\n",
    "    if i>=15 and i<=25:\n",
    "        loan_term_year_group[i]= '15-25'\n",
    "    if i==30:\n",
    "        loan_term_year_group[i]= '30'\n",
    "    if i>30:\n",
    "        loan_term_year_group[i]= '>30'\n",
    "    else:\n",
    "        pass\n",
    "    \n",
    "data_group['loan_term_year_group'] = data_group['loan_term_year'].replace(loan_term_year_group)"
   ]
  },
  {
   "cell_type": "code",
   "execution_count": 120,
   "id": "71e805f3",
   "metadata": {},
   "outputs": [
    {
     "data": {
      "text/html": [
       "<div>\n",
       "<style scoped>\n",
       "    .dataframe tbody tr th:only-of-type {\n",
       "        vertical-align: middle;\n",
       "    }\n",
       "\n",
       "    .dataframe tbody tr th {\n",
       "        vertical-align: top;\n",
       "    }\n",
       "\n",
       "    .dataframe thead th {\n",
       "        text-align: right;\n",
       "    }\n",
       "</style>\n",
       "<table border=\"1\" class=\"dataframe\">\n",
       "  <thead>\n",
       "    <tr style=\"text-align: right;\">\n",
       "      <th></th>\n",
       "      <th>loan_term_year</th>\n",
       "      <th>loan_id</th>\n",
       "    </tr>\n",
       "  </thead>\n",
       "  <tbody>\n",
       "    <tr>\n",
       "      <th>count</th>\n",
       "      <td>17.000000</td>\n",
       "      <td>17.000000</td>\n",
       "    </tr>\n",
       "    <tr>\n",
       "      <th>mean</th>\n",
       "      <td>17.705882</td>\n",
       "      <td>36.294118</td>\n",
       "    </tr>\n",
       "    <tr>\n",
       "      <th>std</th>\n",
       "      <td>12.448718</td>\n",
       "      <td>90.690245</td>\n",
       "    </tr>\n",
       "    <tr>\n",
       "      <th>min</th>\n",
       "      <td>1.000000</td>\n",
       "      <td>1.000000</td>\n",
       "    </tr>\n",
       "    <tr>\n",
       "      <th>25%</th>\n",
       "      <td>7.000000</td>\n",
       "      <td>1.000000</td>\n",
       "    </tr>\n",
       "    <tr>\n",
       "      <th>50%</th>\n",
       "      <td>15.000000</td>\n",
       "      <td>3.000000</td>\n",
       "    </tr>\n",
       "    <tr>\n",
       "      <th>75%</th>\n",
       "      <td>25.000000</td>\n",
       "      <td>9.000000</td>\n",
       "    </tr>\n",
       "    <tr>\n",
       "      <th>max</th>\n",
       "      <td>40.000000</td>\n",
       "      <td>341.000000</td>\n",
       "    </tr>\n",
       "  </tbody>\n",
       "</table>\n",
       "</div>"
      ],
      "text/plain": [
       "       loan_term_year     loan_id\n",
       "count       17.000000   17.000000\n",
       "mean        17.705882   36.294118\n",
       "std         12.448718   90.690245\n",
       "min          1.000000    1.000000\n",
       "25%          7.000000    1.000000\n",
       "50%         15.000000    3.000000\n",
       "75%         25.000000    9.000000\n",
       "max         40.000000  341.000000"
      ]
     },
     "execution_count": 120,
     "metadata": {},
     "output_type": "execute_result"
    }
   ],
   "source": [
    "data_group.describe()"
   ]
  },
  {
   "cell_type": "markdown",
   "id": "2fcbc7bc",
   "metadata": {},
   "source": [
    "### visualisasi"
   ]
  },
  {
   "cell_type": "code",
   "execution_count": 121,
   "id": "0507834e",
   "metadata": {},
   "outputs": [
    {
     "data": {
      "text/plain": [
       "<function matplotlib.pyplot.show(close=None, block=None)>"
      ]
     },
     "execution_count": 121,
     "metadata": {},
     "output_type": "execute_result"
    },
    {
     "data": {
      "image/png": "[encoded data removed]",
      "text/plain": [
       "<Figure size 720x360 with 1 Axes>"
      ]
     },
     "metadata": {},
     "output_type": "display_data"
    }
   ],
   "source": [
    "plt.figure(figsize=(10,5))\n",
    "sns.barplot(x='loan_term_year_group', y='loan_id', hue='married', data=data_group, ci=None, palette = \"Set2\")\n",
    "\n",
    "plt.tick_params(axis='both', which='major', labelsize=10)\n",
    "plt.grid()\n",
    "plt.legend(title = 'Married Status', title_fontsize=12, prop={'size':10}, loc='upper left')\n",
    "\n",
    "plt.xlabel ('Waktu Permohonan (dalam Tahun)', fontsize=12)\n",
    "plt.ylabel ('Jumlah Permohonan', fontsize=12)\n",
    "plt.title (\"Status Pernikahan dalam Jangka Waktu Pinjaman\", fontsize=18, fontweight = 'bold')\n",
    "plt.tight_layout()\n",
    "plt.show"
   ]
  },
  {
   "cell_type": "code",
   "execution_count": 122,
   "id": "0b3784c8",
   "metadata": {},
   "outputs": [
    {
     "data": {
      "text/plain": [
       "<function matplotlib.pyplot.show(close=None, block=None)>"
      ]
     },
     "execution_count": 122,
     "metadata": {},
     "output_type": "execute_result"
    },
    {
     "data": {
      "image/png": "[encoded data removed]",
      "text/plain": [
       "<Figure size 1440x1080 with 1 Axes>"
      ]
     },
     "metadata": {},
     "output_type": "display_data"
    }
   ],
   "source": [
    "sns.set(style=\"darkgrid\")\n",
    "f, ax = plt.subplots(1,1, figsize = (20,15))\n",
    "sns.barplot(x='loan_term_year_group', y='loan_id', data=data_group, hue='married', ci=None, palette = \"Set2\")\n",
    "\n",
    "for bar in ax.patches:\n",
    "    bar_value = bar.get_height()\n",
    "    text = f'{bar_value: ,}'\n",
    "    text_x = bar.get_x() + bar.get_width()/2\n",
    "    text_y = bar.get_y()+bar_value\n",
    "    bar_color= bar.get_facecolor()\n",
    "    ax.text(text_x, text_y, text, ha='center', va='bottom', color = 'black', size=12)\n",
    "    \n",
    "ax.set_xlabel('Durasi Waktu Permohonan', labelpad=15)\n",
    "ax.set_ylabel ('Jumlah Permohonan', labelpad =15)\n",
    "ax.set_title('Analisis Durasi Pinjaman Berdasarkan Status Pernikahan', pad=15, size=20)\n",
    "plt.tight_layout()\n",
    "plt.show"
   ]
  },
  {
   "cell_type": "code",
   "execution_count": 130,
   "id": "35e70dbb",
   "metadata": {},
   "outputs": [
    {
     "data": {
      "image/png": "[encoded data removed]",
      "text/plain": [
       "<Figure size 720x360 with 2 Axes>"
      ]
     },
     "metadata": {},
     "output_type": "display_data"
    }
   ],
   "source": [
    "import matplotlib.pyplot as plt\n",
    "import seaborn as sns\n",
    "\n",
    "# Membagi DataFrame menjadi dua berdasarkan status pernikahan\n",
    "married_data = data_group[data_group['married'] == 'Yes']\n",
    "not_married_data = data_group[data_group['married'] == 'No']\n",
    "\n",
    "# Menghitung jumlah permohonan pinjaman berdasarkan grup durasi pinjaman untuk masing-masing status pernikahan\n",
    "married_counts = married_data.groupby('loan_term_year_group')['loan_id'].sum()\n",
    "not_married_counts = not_married_data.groupby('loan_term_year_group')['loan_id'].sum()\n",
    "\n",
    "# Membuat diagram pie untuk status pernikahan \"Married\" (Ya)\n",
    "plt.figure(figsize=(10, 5))\n",
    "plt.subplot(1, 2, 1)\n",
    "plt.pie(married_counts, labels=married_counts.index, autopct='%1.1f%%', startangle=140)\n",
    "plt.title('Permohonan Pinjaman (Status: Married)')\n",
    "\n",
    "# Membuat diagram pie untuk status pernikahan \"Not Married\" (Tidak)\n",
    "plt.subplot(1, 2, 2)\n",
    "plt.pie(not_married_counts, labels=not_married_counts.index, autopct='%1.1f%%', startangle=140)\n",
    "plt.title('Permohonan Pinjaman (Status: Not Married)')\n",
    "\n",
    "plt.tight_layout()\n",
    "plt.show()\n"
   ]
  },
  {
   "cell_type": "code",
   "execution_count": null,
   "id": "b6576bbb",
   "metadata": {},
   "outputs": [],
   "source": []
  }
 ],
 "metadata": {
  "kernelspec": {
   "display_name": "Python 3 (ipykernel)",
   "language": "python",
   "name": "python3"
  },
  "language_info": {
   "codemirror_mode": {
    "name": "ipython",
    "version": 3
   },
   "file_extension": ".py",
   "mimetype": "text/x-python",
   "name": "python",
   "nbconvert_exporter": "python",
   "pygments_lexer": "ipython3",
   "version": "3.9.7"
  }
 },
 "nbformat": 4,
 "nbformat_minor": 5
}
